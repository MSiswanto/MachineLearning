{
  "nbformat": 4,
  "nbformat_minor": 0,
  "metadata": {
    "colab": {
      "provenance": [],
      "authorship_tag": "ABX9TyP8jUCpoo32kVEOUmOaohp0",
      "include_colab_link": true
    },
    "kernelspec": {
      "name": "python3",
      "display_name": "Python 3"
    },
    "language_info": {
      "name": "python"
    }
  },
  "cells": [
    {
      "cell_type": "markdown",
      "metadata": {
        "id": "view-in-github",
        "colab_type": "text"
      },
      "source": [
        "<a href=\"https://colab.research.google.com/github/MSiswanto/MachineLearning/blob/main/MyWorkSchedules.ipynb\" target=\"_parent\"><img src=\"https://colab.research.google.com/assets/colab-badge.svg\" alt=\"Open In Colab\"/></a>"
      ]
    },
    {
      "cell_type": "code",
      "source": [
        "#pip install schedule -q"
      ],
      "metadata": {
        "id": "mApb8-vTGliF"
      },
      "execution_count": 5,
      "outputs": []
    },
    {
      "cell_type": "code",
      "execution_count": 7,
      "metadata": {
        "id": "E3xki_gtO16e",
        "colab": {
          "base_uri": "https://localhost:8080/",
          "height": 443
        },
        "outputId": "a89c24a0-b225-4831-b263-2bddfdd48008"
      },
      "outputs": [
        {
          "output_type": "stream",
          "name": "stdout",
          "text": [
            "Running task 5 ..\n",
            "Running task 5 ..\n",
            "Running task 5 ..\n",
            "Running task 5 ..\n",
            "Running task 5 ..\n",
            "Running task 5 ..\n",
            "Running task 5 ..\n",
            "Running task 5 ..\n",
            "Running task 5 ..\n",
            "Running task 5 ..\n",
            "Running task 5 ..\n",
            "Running task 5 ..\n",
            "Running task 5 ..\n",
            "Running task 5 ..\n"
          ]
        },
        {
          "output_type": "error",
          "ename": "KeyboardInterrupt",
          "evalue": "ignored",
          "traceback": [
            "\u001b[0;31m---------------------------------------------------------------------------\u001b[0m",
            "\u001b[0;31mKeyboardInterrupt\u001b[0m                         Traceback (most recent call last)",
            "\u001b[0;32m<ipython-input-7-f4ae3fdc2609>\u001b[0m in \u001b[0;36m<module>\u001b[0;34m\u001b[0m\n\u001b[1;32m     33\u001b[0m \u001b[0;32mwhile\u001b[0m \u001b[0;32mTrue\u001b[0m\u001b[0;34m:\u001b[0m\u001b[0;34m\u001b[0m\u001b[0;34m\u001b[0m\u001b[0m\n\u001b[1;32m     34\u001b[0m     \u001b[0mschedule\u001b[0m\u001b[0;34m.\u001b[0m\u001b[0mrun_pending\u001b[0m\u001b[0;34m(\u001b[0m\u001b[0;34m)\u001b[0m\u001b[0;34m\u001b[0m\u001b[0;34m\u001b[0m\u001b[0m\n\u001b[0;32m---> 35\u001b[0;31m     \u001b[0mtime\u001b[0m\u001b[0;34m.\u001b[0m\u001b[0msleep\u001b[0m\u001b[0;34m(\u001b[0m\u001b[0;36m1\u001b[0m\u001b[0;34m)\u001b[0m\u001b[0;34m\u001b[0m\u001b[0;34m\u001b[0m\u001b[0m\n\u001b[0m",
            "\u001b[0;31mKeyboardInterrupt\u001b[0m: "
          ]
        }
      ],
      "source": [
        "#SCHEDULE\n",
        "\n",
        "import schedule\n",
        "import time\n",
        "\n",
        "def task1():\n",
        "    print(\"Running task 1 ..\")\n",
        "def task2():\n",
        "    print(\"Running task 2 ..\")\n",
        "def task3():\n",
        "    print(\"Running task 3 ..\")\n",
        "def task4():\n",
        "    print(\"Running task 4 ..\")\n",
        "def task5():\n",
        "    print(\"Running task 5 ..\")\n",
        "\n",
        "\n",
        "#schedule task1 to run every hour\n",
        "schedule.every(1).hours.do(task1)\n",
        "\n",
        "#schedule task2\n",
        "schedule.every().day.at(\"09:00\").do(task2)\n",
        "\n",
        "#schedule task3\n",
        "schedule.every().monday.at(\"21:00\").do(task3)\n",
        "\n",
        "#schedule task4\n",
        "schedule.every().wednesday.do(task4)\n",
        "\n",
        "#schedule task5\n",
        "schedule.every().second.do(task5)\n",
        "\n",
        "while True:\n",
        "    schedule.run_pending()\n",
        "    time.sleep(1)"
      ]
    }
  ]
}