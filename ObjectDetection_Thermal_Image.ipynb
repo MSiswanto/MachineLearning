{
  "nbformat": 4,
  "nbformat_minor": 0,
  "metadata": {
    "colab": {
      "provenance": [],
      "authorship_tag": "ABX9TyN4lBV44+KLrZJ+G4Nt4y6l",
      "include_colab_link": true
    },
    "kernelspec": {
      "name": "python3",
      "display_name": "Python 3"
    },
    "language_info": {
      "name": "python"
    }
  },
  "cells": [
    {
      "cell_type": "markdown",
      "metadata": {
        "id": "view-in-github",
        "colab_type": "text"
      },
      "source": [
        "<a href=\"https://colab.research.google.com/github/MSiswanto/MachineLearning/blob/main/ObjectDetection_Thermal_Image.ipynb\" target=\"_parent\"><img src=\"https://colab.research.google.com/assets/colab-badge.svg\" alt=\"Open In Colab\"/></a>"
      ]
    },
    {
      "cell_type": "code",
      "execution_count": null,
      "metadata": {
        "id": "eFUfq9Gnp4td"
      },
      "outputs": [],
      "source": [
        "import cv2\n",
        "import numpy as np\n",
        "\n",
        "# Load the thermal image\n",
        "img = cv2.imread(\"thermal_image.jpg\", cv2.IMREAD_GRAYSCALE)\n",
        "\n",
        "# Define a ROI (Region of Interest) for the object to be tracked\n",
        "roi = cv2.selectROI(img, False)\n",
        "\n",
        "# Define a tracking window based on the ROI\n",
        "track_window = (roi[0], roi[1], roi[2], roi[3])\n",
        "\n",
        "# Create a mask of the ROI\n",
        "roi_mask = np.zeros(img.shape[:2], np.uint8)\n",
        "roi_mask[roi[1]:roi[1]+roi[3], roi[0]:roi[0]+roi[2]] = 1\n",
        "\n",
        "# Define the criteria for the Mean Shift algorithm\n",
        "term_crit = (cv2.TERM_CRITERIA_EPS | cv2.TERM_CRITERIA_COUNT, 10, 1)\n",
        "\n",
        "# Start the Mean Shift algorithm\n",
        "cv2.meanShift(img, track_window, term_crit, cv2.meanShift(img, track_window, term_crit, roi_mask))\n",
        "\n",
        "# Draw a rectangle around the tracked object\n",
        "x, y, w, h = track_window\n",
        "cv2.rectangle(img, (x, y), (x+w, y+h), (255, 0, 0), 2)\n",
        "\n",
        "# Display the result\n",
        "cv2.imshow(\"Result\", img)\n",
        "cv2.waitKey(0)\n",
        "cv2.destroyAllWindows()\n",
        "\n"
      ]
    },
    {
      "cell_type": "code",
      "source": [],
      "metadata": {
        "id": "hZQ6frHtrL3N"
      },
      "execution_count": null,
      "outputs": []
    },
    {
      "cell_type": "markdown",
      "source": [
        "KALMAN FILTER ALGORITHM"
      ],
      "metadata": {
        "id": "7Hbx-YmqrJWd"
      }
    },
    {
      "cell_type": "code",
      "source": [
        "import cv2\n",
        "import numpy as np\n",
        "\n",
        "# Load the thermal image\n",
        "img = cv2.imread(\"thermal_image.jpg\", cv2.IMREAD_GRAYSCALE)\n",
        "\n",
        "# Define the state transition matrix (A)\n",
        "A = np.array([[1, 0, 1, 0], [0, 1, 0, 1], [0, 0, 1, 0], [0, 0, 0, 1]], np.float32)\n",
        "\n",
        "# Define the measurement matrix (H)\n",
        "H = np.array([[1, 0, 0, 0], [0, 1, 0, 0]], np.float32)\n",
        "\n",
        "# Define the process noise covariance matrix (Q)\n",
        "Q = np.array([[1, 0, 0, 0], [0, 1, 0, 0], [0, 0, 1, 0], [0, 0, 0, 1]], np.float32) * 0.03\n",
        "\n",
        "# Define the measurement noise covariance matrix (R)\n",
        "R = np.array([[1, 0], [0, 1]], np.float32) * 0.3\n",
        "\n",
        "# Define the initial state and covariance (x, P)\n",
        "x = np.array([[roi[0]], [roi[1]], [0], [0]], np.float32)\n",
        "P = np.array([[0, 0, 0, 0], [0, 0, 0, 0], [0, 0, 1000, 0], [0, 0, 0, 1000]], np.float32)\n",
        "\n",
        "# Initialize the Kalman Filter\n",
        "kf = cv2.KalmanFilter(4, 2, 0)\n",
        "kf.transitionMatrix = A\n",
        "kf.measurementMatrix = H\n",
        "kf.processNoiseCov = Q\n",
        "kf.measurementNoiseCov = R\n",
        "kf.statePre = x\n",
        "kf.errorCovPre = P\n",
        "\n",
        "# Define a ROI (Region of Interest) for the object to be tracked\n",
        "roi = cv2.selectROI(img, False)\n",
        "\n",
        "# Define a tracking window based on the ROI\n",
        "track_window = (roi[0], roi[1], roi[2], roi[3])\n",
        "\n",
        "# Create a mask of the ROI\n",
        "roi_mask = np.zeros(img.shape[:2], np.uint8)\n",
        "roi_mask[roi[1]:roi[1]+roi[3], roi[0]:roi[0]+roi[2]] = 1\n",
        "\n",
        "# Start the Kalman Filter algorithm\n",
        "while True:\n",
        "    # Get the current frame\n",
        "    ret, frame = cap.read()\n",
        "\n",
        "    # Convert the frame to grayscale\n",
        "    frame_gray = cv2.cvtColor(frame, cv2.COLOR_BGR2GRAY)\n",
        "\n",
        "    # Apply a Gaussian blur to the frame\n",
        "    frame_blur = cv2.GaussianBlur(frame_gray, (5, 5), 0)\n",
        "\n",
        "    # Measure the current position of the object\n",
        "    z = np.array([[roi[0] + roi[2]/2], [roi[1] + roi[3]/2]], np.float32\n"
      ],
      "metadata": {
        "id": "1xZP2xglrOYm"
      },
      "execution_count": null,
      "outputs": []
    },
    {
      "cell_type": "markdown",
      "source": [],
      "metadata": {
        "id": "DFT928T-rIhh"
      }
    }
  ]
}