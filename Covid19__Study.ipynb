{
  "nbformat": 4,
  "nbformat_minor": 0,
  "metadata": {
    "colab": {
      "provenance": [],
      "include_colab_link": true
    },
    "kernelspec": {
      "name": "python3",
      "display_name": "Python 3"
    },
    "language_info": {
      "name": "python"
    }
  },
  "cells": [
    {
      "cell_type": "markdown",
      "metadata": {
        "id": "view-in-github",
        "colab_type": "text"
      },
      "source": [
        "<a href=\"https://colab.research.google.com/github/MSiswanto/MachineLearning/blob/main/Covid19__Study.ipynb\" target=\"_parent\"><img src=\"https://colab.research.google.com/assets/colab-badge.svg\" alt=\"Open In Colab\"/></a>"
      ]
    },
    {
      "cell_type": "code",
      "execution_count": null,
      "metadata": {
        "colab": {
          "base_uri": "https://localhost:8080/"
        },
        "id": "x3ef4umc9Pew",
        "outputId": "3673cbc6-1176-4196-cc1c-3a79593e5933"
      },
      "outputs": [
        {
          "output_type": "execute_result",
          "data": {
            "text/plain": [
              "str"
            ]
          },
          "metadata": {},
          "execution_count": 48
        }
      ],
      "source": [
        "import pandas as pd\n",
        "import numpy as np\n",
        "\n",
        "path =\"/content/raw_data.txt\"\n",
        "\n",
        "with open(path, 'r') as f:\n",
        "  data = f.read()\n",
        "\n",
        "type(data)"
      ]
    },
    {
      "cell_type": "code",
      "source": [
        "import ast\n",
        "data = ast.literal_eval(data)\n",
        "data.keys()"
      ],
      "metadata": {
        "colab": {
          "base_uri": "https://localhost:8080/"
        },
        "id": "KoN-Fn_s90iI",
        "outputId": "9f21ef67-161c-4dfe-b004-b8fbbf220da7"
      },
      "execution_count": null,
      "outputs": [
        {
          "output_type": "execute_result",
          "data": {
            "text/plain": [
              "dict_keys(['data', 'update'])"
            ]
          },
          "metadata": {},
          "execution_count": 49
        }
      ]
    },
    {
      "cell_type": "code",
      "source": [
        "data['data']"
      ],
      "metadata": {
        "colab": {
          "base_uri": "https://localhost:8080/"
        },
        "id": "k-Ay0nX1-Rpk",
        "outputId": "f9bafb29-faf8-445e-801f-8fbe57cbbecb"
      },
      "execution_count": null,
      "outputs": [
        {
          "output_type": "execute_result",
          "data": {
            "text/plain": [
              "{'id': 1,\n",
              " 'jumlah_odp': 2288,\n",
              " 'jumlah_pdp': 0,\n",
              " 'total_spesimen': 107498588,\n",
              " 'total_spesimen_negatif': 93580738}"
            ]
          },
          "metadata": {},
          "execution_count": 50
        }
      ]
    },
    {
      "cell_type": "code",
      "source": [
        "for i in data['update'].keys():\n",
        "  print(f\"{i} : {len(data['update'][i])}\")"
      ],
      "metadata": {
        "colab": {
          "base_uri": "https://localhost:8080/"
        },
        "id": "_G0NQgbF-XoQ",
        "outputId": "d74553a8-8ccc-4df4-9606-38726fdbbce6"
      },
      "execution_count": null,
      "outputs": [
        {
          "output_type": "stream",
          "name": "stdout",
          "text": [
            "penambahan : 6\n",
            "harian : 924\n",
            "total : 4\n"
          ]
        }
      ]
    },
    {
      "cell_type": "code",
      "source": [
        "data['update']['penambahan']"
      ],
      "metadata": {
        "colab": {
          "base_uri": "https://localhost:8080/"
        },
        "id": "IlT07yqv-4xl",
        "outputId": "fcba8abd-dd0e-415b-eba8-75a1e62f7088"
      },
      "execution_count": null,
      "outputs": [
        {
          "output_type": "execute_result",
          "data": {
            "text/plain": [
              "{'jumlah_positif': 1939,\n",
              " 'jumlah_meninggal': 13,\n",
              " 'jumlah_sembuh': 2725,\n",
              " 'jumlah_dirawat': -799,\n",
              " 'tanggal': '2022-09-11',\n",
              " 'created': '2022-09-11 16:36:05'}"
            ]
          },
          "metadata": {},
          "execution_count": 52
        }
      ]
    },
    {
      "cell_type": "code",
      "source": [
        "data['update']['total']"
      ],
      "metadata": {
        "colab": {
          "base_uri": "https://localhost:8080/"
        },
        "id": "QGv6FUw__BTy",
        "outputId": "d579b714-7a3e-4f53-ecc7-e909afad5ab5"
      },
      "execution_count": null,
      "outputs": [
        {
          "output_type": "execute_result",
          "data": {
            "text/plain": [
              "{'jumlah_positif': 6392492,\n",
              " 'jumlah_dirawat': 33946,\n",
              " 'jumlah_sembuh': 6200776,\n",
              " 'jumlah_meninggal': 157770}"
            ]
          },
          "metadata": {},
          "execution_count": 53
        }
      ]
    },
    {
      "cell_type": "code",
      "source": [
        "x1 = [data['update']['harian'][i]['key_as_string'] for i in range(5)]\n",
        "x2 = [data['update']['harian'][i]['key'] for i in range(5)]\n",
        "x3 = [data['update']['harian'][i]['doc_count'] for i in range(5)]\n",
        "x4 = [data['update']['harian'][i]['jumlah_meninggal']['value'] for i in range(5)]\n",
        "x5 = [data['update']['harian'][i]['jumlah_sembuh']['value'] for i in range(5)]\n",
        "x6 = [data['update']['harian'][i]['jumlah_positif']['value'] for i in range(5)]\n",
        "x7 = [data['update']['harian'][i]['jumlah_dirawat']['value'] for i in range(5)]\n",
        "x8 = [data['update']['harian'][i]['jumlah_positif_kum']['value'] for i in range(5)]\n",
        "x9 = [data['update']['harian'][i]['jumlah_sembuh_kum']['value'] for i in range(5)]\n",
        "x10 = [data['update']['harian'][i]['jumlah_meninggal_kum']['value'] for i in range(5)]\n",
        "x11 = [data['update']['harian'][i]['jumlah_dirawat_kum']['value'] for i in range(5)]\n",
        "\n",
        "df = pd.DataFrame({\n",
        "    'x1' : x1,\n",
        "    'x2' : x2,\n",
        "    'x3' : x3,\n",
        "    'x4' : x4,\n",
        "    'x5' : x5,\n",
        "    'x6' : x6,\n",
        "    'x7' : x7,\n",
        "    'x8' : x8,\n",
        "    'x9' : x9,\n",
        "    'x10' : x10,\n",
        "    'x11' : x11,\n",
        "})\n",
        "\n",
        "df.columns = ['key_as_string', 'key', 'doc_count', 'jumlah_meninggal', 'jumlah_sembuh', 'jumlah_positif', 'jumlah_dirawat', \n",
        " 'jumlah_positif_kum', 'jumlah_sembuh_kum', 'jumlah_meninggal_kum', 'jumlah_dirawat_kum']\n",
        "\n",
        "df.head()"
      ],
      "metadata": {
        "colab": {
          "base_uri": "https://localhost:8080/",
          "height": 357
        },
        "id": "ezZ3An_N_G2H",
        "outputId": "18caa8cf-4a1e-4f72-f6c2-6e90039e2d72"
      },
      "execution_count": null,
      "outputs": [
        {
          "output_type": "execute_result",
          "data": {
            "text/plain": [
              "              key_as_string            key  doc_count  jumlah_meninggal  \\\n",
              "0  2020-03-02T00:00:00.000Z  1583107200000          1                 0   \n",
              "1  2020-03-03T00:00:00.000Z  1583193600000          1                 0   \n",
              "2  2020-03-04T00:00:00.000Z  1583280000000          1                 0   \n",
              "3  2020-03-05T00:00:00.000Z  1583366400000          1                 0   \n",
              "4  2020-03-06T00:00:00.000Z  1583452800000          1                 0   \n",
              "\n",
              "   jumlah_sembuh  jumlah_positif  jumlah_dirawat  jumlah_positif_kum  \\\n",
              "0              0               2               2                   2   \n",
              "1              0               0               0                   2   \n",
              "2              0               0               0                   2   \n",
              "3              0               0               0                   2   \n",
              "4              0               2               2                   4   \n",
              "\n",
              "   jumlah_sembuh_kum  jumlah_meninggal_kum  jumlah_dirawat_kum  \n",
              "0                  0                     0                   2  \n",
              "1                  0                     0                   2  \n",
              "2                  0                     0                   2  \n",
              "3                  0                     0                   2  \n",
              "4                  0                     0                   4  "
            ],
            "text/html": [
              "\n",
              "  <div id=\"df-add9efaf-df29-46cc-b880-ec4bcb6e3fdc\">\n",
              "    <div class=\"colab-df-container\">\n",
              "      <div>\n",
              "<style scoped>\n",
              "    .dataframe tbody tr th:only-of-type {\n",
              "        vertical-align: middle;\n",
              "    }\n",
              "\n",
              "    .dataframe tbody tr th {\n",
              "        vertical-align: top;\n",
              "    }\n",
              "\n",
              "    .dataframe thead th {\n",
              "        text-align: right;\n",
              "    }\n",
              "</style>\n",
              "<table border=\"1\" class=\"dataframe\">\n",
              "  <thead>\n",
              "    <tr style=\"text-align: right;\">\n",
              "      <th></th>\n",
              "      <th>key_as_string</th>\n",
              "      <th>key</th>\n",
              "      <th>doc_count</th>\n",
              "      <th>jumlah_meninggal</th>\n",
              "      <th>jumlah_sembuh</th>\n",
              "      <th>jumlah_positif</th>\n",
              "      <th>jumlah_dirawat</th>\n",
              "      <th>jumlah_positif_kum</th>\n",
              "      <th>jumlah_sembuh_kum</th>\n",
              "      <th>jumlah_meninggal_kum</th>\n",
              "      <th>jumlah_dirawat_kum</th>\n",
              "    </tr>\n",
              "  </thead>\n",
              "  <tbody>\n",
              "    <tr>\n",
              "      <th>0</th>\n",
              "      <td>2020-03-02T00:00:00.000Z</td>\n",
              "      <td>1583107200000</td>\n",
              "      <td>1</td>\n",
              "      <td>0</td>\n",
              "      <td>0</td>\n",
              "      <td>2</td>\n",
              "      <td>2</td>\n",
              "      <td>2</td>\n",
              "      <td>0</td>\n",
              "      <td>0</td>\n",
              "      <td>2</td>\n",
              "    </tr>\n",
              "    <tr>\n",
              "      <th>1</th>\n",
              "      <td>2020-03-03T00:00:00.000Z</td>\n",
              "      <td>1583193600000</td>\n",
              "      <td>1</td>\n",
              "      <td>0</td>\n",
              "      <td>0</td>\n",
              "      <td>0</td>\n",
              "      <td>0</td>\n",
              "      <td>2</td>\n",
              "      <td>0</td>\n",
              "      <td>0</td>\n",
              "      <td>2</td>\n",
              "    </tr>\n",
              "    <tr>\n",
              "      <th>2</th>\n",
              "      <td>2020-03-04T00:00:00.000Z</td>\n",
              "      <td>1583280000000</td>\n",
              "      <td>1</td>\n",
              "      <td>0</td>\n",
              "      <td>0</td>\n",
              "      <td>0</td>\n",
              "      <td>0</td>\n",
              "      <td>2</td>\n",
              "      <td>0</td>\n",
              "      <td>0</td>\n",
              "      <td>2</td>\n",
              "    </tr>\n",
              "    <tr>\n",
              "      <th>3</th>\n",
              "      <td>2020-03-05T00:00:00.000Z</td>\n",
              "      <td>1583366400000</td>\n",
              "      <td>1</td>\n",
              "      <td>0</td>\n",
              "      <td>0</td>\n",
              "      <td>0</td>\n",
              "      <td>0</td>\n",
              "      <td>2</td>\n",
              "      <td>0</td>\n",
              "      <td>0</td>\n",
              "      <td>2</td>\n",
              "    </tr>\n",
              "    <tr>\n",
              "      <th>4</th>\n",
              "      <td>2020-03-06T00:00:00.000Z</td>\n",
              "      <td>1583452800000</td>\n",
              "      <td>1</td>\n",
              "      <td>0</td>\n",
              "      <td>0</td>\n",
              "      <td>2</td>\n",
              "      <td>2</td>\n",
              "      <td>4</td>\n",
              "      <td>0</td>\n",
              "      <td>0</td>\n",
              "      <td>4</td>\n",
              "    </tr>\n",
              "  </tbody>\n",
              "</table>\n",
              "</div>\n",
              "      <button class=\"colab-df-convert\" onclick=\"convertToInteractive('df-add9efaf-df29-46cc-b880-ec4bcb6e3fdc')\"\n",
              "              title=\"Convert this dataframe to an interactive table.\"\n",
              "              style=\"display:none;\">\n",
              "        \n",
              "  <svg xmlns=\"http://www.w3.org/2000/svg\" height=\"24px\"viewBox=\"0 0 24 24\"\n",
              "       width=\"24px\">\n",
              "    <path d=\"M0 0h24v24H0V0z\" fill=\"none\"/>\n",
              "    <path d=\"M18.56 5.44l.94 2.06.94-2.06 2.06-.94-2.06-.94-.94-2.06-.94 2.06-2.06.94zm-11 1L8.5 8.5l.94-2.06 2.06-.94-2.06-.94L8.5 2.5l-.94 2.06-2.06.94zm10 10l.94 2.06.94-2.06 2.06-.94-2.06-.94-.94-2.06-.94 2.06-2.06.94z\"/><path d=\"M17.41 7.96l-1.37-1.37c-.4-.4-.92-.59-1.43-.59-.52 0-1.04.2-1.43.59L10.3 9.45l-7.72 7.72c-.78.78-.78 2.05 0 2.83L4 21.41c.39.39.9.59 1.41.59.51 0 1.02-.2 1.41-.59l7.78-7.78 2.81-2.81c.8-.78.8-2.07 0-2.86zM5.41 20L4 18.59l7.72-7.72 1.47 1.35L5.41 20z\"/>\n",
              "  </svg>\n",
              "      </button>\n",
              "      \n",
              "  <style>\n",
              "    .colab-df-container {\n",
              "      display:flex;\n",
              "      flex-wrap:wrap;\n",
              "      gap: 12px;\n",
              "    }\n",
              "\n",
              "    .colab-df-convert {\n",
              "      background-color: #E8F0FE;\n",
              "      border: none;\n",
              "      border-radius: 50%;\n",
              "      cursor: pointer;\n",
              "      display: none;\n",
              "      fill: #1967D2;\n",
              "      height: 32px;\n",
              "      padding: 0 0 0 0;\n",
              "      width: 32px;\n",
              "    }\n",
              "\n",
              "    .colab-df-convert:hover {\n",
              "      background-color: #E2EBFA;\n",
              "      box-shadow: 0px 1px 2px rgba(60, 64, 67, 0.3), 0px 1px 3px 1px rgba(60, 64, 67, 0.15);\n",
              "      fill: #174EA6;\n",
              "    }\n",
              "\n",
              "    [theme=dark] .colab-df-convert {\n",
              "      background-color: #3B4455;\n",
              "      fill: #D2E3FC;\n",
              "    }\n",
              "\n",
              "    [theme=dark] .colab-df-convert:hover {\n",
              "      background-color: #434B5C;\n",
              "      box-shadow: 0px 1px 3px 1px rgba(0, 0, 0, 0.15);\n",
              "      filter: drop-shadow(0px 1px 2px rgba(0, 0, 0, 0.3));\n",
              "      fill: #FFFFFF;\n",
              "    }\n",
              "  </style>\n",
              "\n",
              "      <script>\n",
              "        const buttonEl =\n",
              "          document.querySelector('#df-add9efaf-df29-46cc-b880-ec4bcb6e3fdc button.colab-df-convert');\n",
              "        buttonEl.style.display =\n",
              "          google.colab.kernel.accessAllowed ? 'block' : 'none';\n",
              "\n",
              "        async function convertToInteractive(key) {\n",
              "          const element = document.querySelector('#df-add9efaf-df29-46cc-b880-ec4bcb6e3fdc');\n",
              "          const dataTable =\n",
              "            await google.colab.kernel.invokeFunction('convertToInteractive',\n",
              "                                                     [key], {});\n",
              "          if (!dataTable) return;\n",
              "\n",
              "          const docLinkHtml = 'Like what you see? Visit the ' +\n",
              "            '<a target=\"_blank\" href=https://colab.research.google.com/notebooks/data_table.ipynb>data table notebook</a>'\n",
              "            + ' to learn more about interactive tables.';\n",
              "          element.innerHTML = '';\n",
              "          dataTable['output_type'] = 'display_data';\n",
              "          await google.colab.output.renderOutput(dataTable, element);\n",
              "          const docLink = document.createElement('div');\n",
              "          docLink.innerHTML = docLinkHtml;\n",
              "          element.appendChild(docLink);\n",
              "        }\n",
              "      </script>\n",
              "    </div>\n",
              "  </div>\n",
              "  "
            ]
          },
          "metadata": {},
          "execution_count": 57
        }
      ]
    },
    {
      "cell_type": "code",
      "source": [
        "df.info()"
      ],
      "metadata": {
        "id": "W_yOutj6COBF",
        "outputId": "8b9086d4-b514-460a-9ed3-417ae3518143",
        "colab": {
          "base_uri": "https://localhost:8080/"
        }
      },
      "execution_count": null,
      "outputs": [
        {
          "output_type": "stream",
          "name": "stdout",
          "text": [
            "<class 'pandas.core.frame.DataFrame'>\n",
            "RangeIndex: 5 entries, 0 to 4\n",
            "Data columns (total 11 columns):\n",
            " #   Column                Non-Null Count  Dtype \n",
            "---  ------                --------------  ----- \n",
            " 0   key_as_string         5 non-null      object\n",
            " 1   key                   5 non-null      int64 \n",
            " 2   doc_count             5 non-null      int64 \n",
            " 3   jumlah_meninggal      5 non-null      int64 \n",
            " 4   jumlah_sembuh         5 non-null      int64 \n",
            " 5   jumlah_positif        5 non-null      int64 \n",
            " 6   jumlah_dirawat        5 non-null      int64 \n",
            " 7   jumlah_positif_kum    5 non-null      int64 \n",
            " 8   jumlah_sembuh_kum     5 non-null      int64 \n",
            " 9   jumlah_meninggal_kum  5 non-null      int64 \n",
            " 10  jumlah_dirawat_kum    5 non-null      int64 \n",
            "dtypes: int64(10), object(1)\n",
            "memory usage: 568.0+ bytes\n"
          ]
        }
      ]
    }
  ]
}