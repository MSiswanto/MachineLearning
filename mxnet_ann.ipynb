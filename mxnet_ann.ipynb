{
  "nbformat": 4,
  "nbformat_minor": 0,
  "metadata": {
    "colab": {
      "provenance": [],
      "authorship_tag": "ABX9TyNR6irP6ivIIFVmXrFmgQfq",
      "include_colab_link": true
    },
    "kernelspec": {
      "name": "python3",
      "display_name": "Python 3"
    },
    "language_info": {
      "name": "python"
    }
  },
  "cells": [
    {
      "cell_type": "markdown",
      "metadata": {
        "id": "view-in-github",
        "colab_type": "text"
      },
      "source": [
        "<a href=\"https://colab.research.google.com/github/MSiswanto/MachineLearning/blob/main/mxnet_ann.ipynb\" target=\"_parent\"><img src=\"https://colab.research.google.com/assets/colab-badge.svg\" alt=\"Open In Colab\"/></a>"
      ]
    },
    {
      "cell_type": "code",
      "source": [
        "!pip install -U mxnet"
      ],
      "metadata": {
        "colab": {
          "base_uri": "https://localhost:8080/"
        },
        "id": "IFM1It6uNLSO",
        "outputId": "d6088e99-0690-465c-ea77-73a403652132"
      },
      "execution_count": 2,
      "outputs": [
        {
          "output_type": "stream",
          "name": "stdout",
          "text": [
            "Looking in indexes: https://pypi.org/simple, https://us-python.pkg.dev/colab-wheels/public/simple/\n",
            "Collecting mxnet\n",
            "  Downloading mxnet-1.9.1-py3-none-manylinux2014_x86_64.whl (49.1 MB)\n",
            "\u001b[K     |████████████████████████████████| 49.1 MB 1.2 MB/s \n",
            "\u001b[?25hRequirement already satisfied: requests<3,>=2.20.0 in /usr/local/lib/python3.7/dist-packages (from mxnet) (2.23.0)\n",
            "Requirement already satisfied: numpy<2.0.0,>1.16.0 in /usr/local/lib/python3.7/dist-packages (from mxnet) (1.21.6)\n",
            "Collecting graphviz<0.9.0,>=0.8.1\n",
            "  Downloading graphviz-0.8.4-py2.py3-none-any.whl (16 kB)\n",
            "Requirement already satisfied: urllib3!=1.25.0,!=1.25.1,<1.26,>=1.21.1 in /usr/local/lib/python3.7/dist-packages (from requests<3,>=2.20.0->mxnet) (1.24.3)\n",
            "Requirement already satisfied: chardet<4,>=3.0.2 in /usr/local/lib/python3.7/dist-packages (from requests<3,>=2.20.0->mxnet) (3.0.4)\n",
            "Requirement already satisfied: idna<3,>=2.5 in /usr/local/lib/python3.7/dist-packages (from requests<3,>=2.20.0->mxnet) (2.10)\n",
            "Requirement already satisfied: certifi>=2017.4.17 in /usr/local/lib/python3.7/dist-packages (from requests<3,>=2.20.0->mxnet) (2022.9.24)\n",
            "Installing collected packages: graphviz, mxnet\n",
            "  Attempting uninstall: graphviz\n",
            "    Found existing installation: graphviz 0.10.1\n",
            "    Uninstalling graphviz-0.10.1:\n",
            "      Successfully uninstalled graphviz-0.10.1\n",
            "Successfully installed graphviz-0.8.4 mxnet-1.9.1\n"
          ]
        }
      ]
    },
    {
      "cell_type": "code",
      "execution_count": 3,
      "metadata": {
        "id": "HDQ2giD1NCpK"
      },
      "outputs": [],
      "source": [
        "from mxnet import nd\n",
        "from mxnet.gluon import nn"
      ]
    },
    {
      "cell_type": "code",
      "source": [
        "layer = nn.Dense(2)\n",
        "layer"
      ],
      "metadata": {
        "colab": {
          "base_uri": "https://localhost:8080/"
        },
        "id": "J6S6e7MMNdqf",
        "outputId": "d4a2fe1d-af38-4d03-e626-f03620d38e41"
      },
      "execution_count": 4,
      "outputs": [
        {
          "output_type": "execute_result",
          "data": {
            "text/plain": [
              "Dense(None -> 2, linear)"
            ]
          },
          "metadata": {},
          "execution_count": 4
        }
      ]
    },
    {
      "cell_type": "code",
      "source": [
        "layer.initialize()"
      ],
      "metadata": {
        "id": "im2HFlgVNlDs"
      },
      "execution_count": 5,
      "outputs": []
    },
    {
      "cell_type": "code",
      "source": [
        "x = nd.random.uniform(-1,1,(3,4))\n",
        "layer(x)"
      ],
      "metadata": {
        "colab": {
          "base_uri": "https://localhost:8080/"
        },
        "id": "UMxk_5FNNwMf",
        "outputId": "b7bcbfe9-4211-483e-a287-921bed4f6cfe"
      },
      "execution_count": 6,
      "outputs": [
        {
          "output_type": "execute_result",
          "data": {
            "text/plain": [
              "\n",
              "[[-0.02524132 -0.00874885]\n",
              " [-0.06026538 -0.01308061]\n",
              " [ 0.02468396 -0.02181557]]\n",
              "<NDArray 3x2 @cpu(0)>"
            ]
          },
          "metadata": {},
          "execution_count": 6
        }
      ]
    },
    {
      "cell_type": "code",
      "source": [
        "layer.weight.data()"
      ],
      "metadata": {
        "colab": {
          "base_uri": "https://localhost:8080/"
        },
        "id": "HRe9UzvlODm0",
        "outputId": "156b4516-7d6d-4b13-c93b-b5089490a806"
      },
      "execution_count": 7,
      "outputs": [
        {
          "output_type": "execute_result",
          "data": {
            "text/plain": [
              "\n",
              "[[-0.00873779 -0.02834515  0.05484822 -0.06206018]\n",
              " [ 0.06491279 -0.03182812 -0.01631819 -0.00312688]]\n",
              "<NDArray 2x4 @cpu(0)>"
            ]
          },
          "metadata": {},
          "execution_count": 7
        }
      ]
    },
    {
      "cell_type": "code",
      "source": [
        "net = nn.Sequential()\n",
        "# Add a sequence of layers.\n",
        "net.add(# Similar to Dense, it is not necessary to specify the input channels\n",
        "        # by the argument `in_channels`, which will be  automatically inferred\n",
        "        # in the first forward pass. Also, we apply a relu activation on the\n",
        "        # output. In addition, we can use a tuple to specify a  non-square\n",
        "        # kernel size, such as `kernel_size=(2,4)`\n",
        "        nn.Conv2D(channels=6, kernel_size=5, activation='relu'),\n",
        "        # One can also use a tuple to specify non-symmetric pool and stride sizes\n",
        "        nn.MaxPool2D(pool_size=2, strides=2),\n",
        "        nn.Conv2D(channels=16, kernel_size=3, activation='relu'),\n",
        "        nn.MaxPool2D(pool_size=2, strides=2),\n",
        "        # The dense layer will automatically reshape the 4-D output of last\n",
        "        # max pooling layer into the 2-D shape: (x.shape[0], x.size/x.shape[0])\n",
        "        nn.Dense(120, activation=\"relu\"),\n",
        "        nn.Dense(84, activation=\"relu\"),\n",
        "        nn.Dense(10))\n",
        "net"
      ],
      "metadata": {
        "colab": {
          "base_uri": "https://localhost:8080/"
        },
        "id": "upr2PggiOhBE",
        "outputId": "bd076e6b-adb6-48ba-bf71-c61d0ca225be"
      },
      "execution_count": 8,
      "outputs": [
        {
          "output_type": "execute_result",
          "data": {
            "text/plain": [
              "Sequential(\n",
              "  (0): Conv2D(None -> 6, kernel_size=(5, 5), stride=(1, 1), Activation(relu))\n",
              "  (1): MaxPool2D(size=(2, 2), stride=(2, 2), padding=(0, 0), ceil_mode=False, global_pool=False, pool_type=max, layout=NCHW)\n",
              "  (2): Conv2D(None -> 16, kernel_size=(3, 3), stride=(1, 1), Activation(relu))\n",
              "  (3): MaxPool2D(size=(2, 2), stride=(2, 2), padding=(0, 0), ceil_mode=False, global_pool=False, pool_type=max, layout=NCHW)\n",
              "  (4): Dense(None -> 120, Activation(relu))\n",
              "  (5): Dense(None -> 84, Activation(relu))\n",
              "  (6): Dense(None -> 10, linear)\n",
              ")"
            ]
          },
          "metadata": {},
          "execution_count": 8
        }
      ]
    },
    {
      "cell_type": "code",
      "source": [
        "net.initialize()\n",
        "# Input shape is (batch_size, color_channels, height, width)\n",
        "x = nd.random.uniform(shape=(4,1,28,28))\n",
        "y = net(x)\n",
        "y.shape"
      ],
      "metadata": {
        "colab": {
          "base_uri": "https://localhost:8080/"
        },
        "id": "kLk5znF6PCNE",
        "outputId": "53f0d1c7-0630-4033-cea1-1cefc730da72"
      },
      "execution_count": 9,
      "outputs": [
        {
          "output_type": "execute_result",
          "data": {
            "text/plain": [
              "(4, 10)"
            ]
          },
          "metadata": {},
          "execution_count": 9
        }
      ]
    },
    {
      "cell_type": "code",
      "source": [
        "(net[0].weight.data().shape, net[5].bias.data().shape)"
      ],
      "metadata": {
        "colab": {
          "base_uri": "https://localhost:8080/"
        },
        "id": "bqe6eKoWPOSM",
        "outputId": "621d7c80-bf32-4226-ec71-4f2f8f0c1f43"
      },
      "execution_count": 10,
      "outputs": [
        {
          "output_type": "execute_result",
          "data": {
            "text/plain": [
              "((6, 1, 5, 5), (84,))"
            ]
          },
          "metadata": {},
          "execution_count": 10
        }
      ]
    }
  ]
}