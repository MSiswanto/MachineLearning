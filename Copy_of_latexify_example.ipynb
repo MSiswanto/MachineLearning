{
  "nbformat": 4,
  "nbformat_minor": 0,
  "metadata": {
    "colab": {
      "provenance": [],
      "include_colab_link": true
    },
    "kernelspec": {
      "name": "python3",
      "display_name": "Python 3"
    }
  },
  "cells": [
    {
      "cell_type": "markdown",
      "metadata": {
        "id": "view-in-github",
        "colab_type": "text"
      },
      "source": [
        "<a href=\"https://colab.research.google.com/github/MSiswanto/MachineLearning/blob/main/Copy_of_latexify_example.ipynb\" target=\"_parent\"><img src=\"https://colab.research.google.com/assets/colab-badge.svg\" alt=\"Open In Colab\"/></a>"
      ]
    },
    {
      "cell_type": "markdown",
      "source": [
        "# `latexify` examples on Google Colaboratory\n",
        "\n",
        "This notebook provides several examples to use `latexify`.\n",
        "\n",
        "See also the [official documentation](https://github.com/google/latexify_py/blob/documentation/docs/index.md) for more details.\n",
        "\n",
        "If you have any questions, please ask it in the [issue tracker](https://github.com/google/latexify_py/issues)."
      ],
      "metadata": {
        "id": "W5mNJI3Bnl6n"
      }
    },
    {
      "cell_type": "markdown",
      "source": [
        "## Install `latexify`"
      ],
      "metadata": {
        "id": "fWCVgcRHoLd8"
      }
    },
    {
      "cell_type": "code",
      "metadata": {
        "id": "4IPGyu2dFH6T",
        "colab": {
          "base_uri": "https://localhost:8080/"
        },
        "outputId": "25b2aebe-b934-449c-be79-be0fdb19db07"
      },
      "source": [
        "# Restart the runtime before running the examples below.\n",
        "!pip install latexify-py==0.2.0b2"
      ],
      "execution_count": 5,
      "outputs": [
        {
          "output_type": "stream",
          "name": "stdout",
          "text": [
            "Looking in indexes: https://pypi.org/simple, https://us-python.pkg.dev/colab-wheels/public/simple/\n",
            "Collecting latexify-py==0.2.0b2\n",
            "  Downloading latexify_py-0.2.0b2-py3-none-any.whl (21 kB)\n",
            "Requirement already satisfied: dill>=0.3.2 in /usr/local/lib/python3.7/dist-packages (from latexify-py==0.2.0b2) (0.3.6)\n",
            "Installing collected packages: latexify-py\n",
            "Successfully installed latexify-py-0.2.0b2\n"
          ]
        }
      ]
    },
    {
      "cell_type": "markdown",
      "source": [
        "## Import `latexify` into your code"
      ],
      "metadata": {
        "id": "-Mzq4_dNoSmc"
      }
    },
    {
      "cell_type": "code",
      "metadata": {
        "id": "hViDMhyMFNCO",
        "colab": {
          "base_uri": "https://localhost:8080/",
          "height": 35
        },
        "outputId": "609538c6-db2d-4878-9013-af2b2af88e8b"
      },
      "source": [
        "import math  # Optionally\n",
        "import latexify\n",
        "\n",
        "latexify.__version__"
      ],
      "execution_count": 6,
      "outputs": [
        {
          "output_type": "execute_result",
          "data": {
            "text/plain": [
              "'0.2.0b2'"
            ],
            "application/vnd.google.colaboratory.intrinsic+json": {
              "type": "string"
            }
          },
          "metadata": {},
          "execution_count": 6
        }
      ]
    },
    {
      "cell_type": "markdown",
      "source": [
        "## Examples"
      ],
      "metadata": {
        "id": "4QJ6I2s7odX1"
      }
    },
    {
      "cell_type": "code",
      "metadata": {
        "id": "NvbEYSwXFaeE",
        "colab": {
          "base_uri": "https://localhost:8080/",
          "height": 90
        },
        "outputId": "3d199c69-7246-4bf0-9149-b343dbd1e0bb"
      },
      "source": [
        "@latexify.function\n",
        "def solve(a, b, c):\n",
        "  return (-b + math.sqrt(b**2 - 4*a*c)) / (2*a)\n",
        "\n",
        "print(solve(1, 4, 3))  # Invoking the function works as expected.\n",
        "print(solve)  # Printing the function shows the underlying LaTeX expression.\n",
        "solve  # Display the MathJax."
      ],
      "execution_count": 7,
      "outputs": [
        {
          "output_type": "stream",
          "name": "stdout",
          "text": [
            "-1.0\n",
            "\\mathrm{solve}(a, b, c) = \\frac{-b + \\sqrt{b^{{2}} - {4} a c}}{{2} a}\n"
          ]
        },
        {
          "output_type": "execute_result",
          "data": {
            "text/plain": [
              "<latexify.frontend.LatexifiedFunction at 0x7f6bef8e9350>"
            ],
            "text/latex": "$$ \\displaystyle \\mathrm{solve}(a, b, c) = \\frac{-b + \\sqrt{b^{{2}} - {4} a c}}{{2} a} $$"
          },
          "metadata": {},
          "execution_count": 7
        }
      ]
    },
    {
      "cell_type": "code",
      "source": [
        "# latexify.expression works similarly, but does not output the signature.\n",
        "@latexify.expression\n",
        "def solve(a, b, c):\n",
        "  return (-b + math.sqrt(b**2 - 4*a*c)) / (2*a)\n",
        "\n",
        "solve"
      ],
      "metadata": {
        "colab": {
          "base_uri": "https://localhost:8080/",
          "height": 56
        },
        "id": "wS7BhtPgjSak",
        "outputId": "4547033e-d2b9-4486-e41b-229fc23d76a8"
      },
      "execution_count": 8,
      "outputs": [
        {
          "output_type": "execute_result",
          "data": {
            "text/plain": [
              "<latexify.frontend.LatexifiedFunction at 0x7f6bef8e9790>"
            ],
            "text/latex": "$$ \\displaystyle \\frac{-b + \\sqrt{b^{{2}} - {4} a c}}{{2} a} $$"
          },
          "metadata": {},
          "execution_count": 8
        }
      ]
    },
    {
      "cell_type": "code",
      "source": [
        "# latexify.get_latex obtains the underlying LaTeX expression directly.\n",
        "def solve(a, b, c):\n",
        "  return (-b + math.sqrt(b**2 - 4*a*c)) / (2*a)\n",
        "\n",
        "latexify.get_latex(solve)"
      ],
      "metadata": {
        "colab": {
          "base_uri": "https://localhost:8080/",
          "height": 35
        },
        "id": "G73dnoqqjg4A",
        "outputId": "9178ad56-7886-4dc9-cbec-f6c9c13d8435"
      },
      "execution_count": 9,
      "outputs": [
        {
          "output_type": "execute_result",
          "data": {
            "text/plain": [
              "'\\\\mathrm{solve}(a, b, c) = \\\\frac{-b + \\\\sqrt{b^{{2}} - {4} a c}}{{2} a}'"
            ],
            "application/vnd.google.colaboratory.intrinsic+json": {
              "type": "string"
            }
          },
          "metadata": {},
          "execution_count": 9
        }
      ]
    },
    {
      "cell_type": "code",
      "metadata": {
        "id": "8bYSWIngGF8E",
        "colab": {
          "base_uri": "https://localhost:8080/",
          "height": 61
        },
        "outputId": "37c421a2-ae04-4789-d83c-2462109b08a6"
      },
      "source": [
        "@latexify.function\n",
        "def sinc(x):\n",
        "  if x == 0:\n",
        "    return 1\n",
        "  else:\n",
        "    return math.sin(x) / x\n",
        "\n",
        "sinc"
      ],
      "execution_count": 10,
      "outputs": [
        {
          "output_type": "execute_result",
          "data": {
            "text/plain": [
              "<latexify.frontend.LatexifiedFunction at 0x7f6bef8ee590>"
            ],
            "text/latex": "$$ \\displaystyle \\mathrm{sinc}(x) = \\left\\{ \\begin{array}{ll} {1}, & \\mathrm{if} \\ {x = {0}} \\\\ \\frac{\\sin{\\left({x}\\right)}}{x}, & \\mathrm{otherwise} \\end{array} \\right. $$"
          },
          "metadata": {},
          "execution_count": 10
        }
      ]
    },
    {
      "cell_type": "code",
      "metadata": {
        "id": "h1i4BjdgHjxl",
        "colab": {
          "base_uri": "https://localhost:8080/",
          "height": 78
        },
        "outputId": "66ae8c36-29fa-46fe-f3b0-1426461724fc"
      },
      "source": [
        "# Elif or nested else-if are unrolled.\n",
        "@latexify.function\n",
        "def fib(x):\n",
        "  if x == 0:\n",
        "    return 0\n",
        "  elif x == 1:\n",
        "    return 1\n",
        "  else:\n",
        "    return fib(x-1) + fib(x-2)\n",
        "\n",
        "fib"
      ],
      "execution_count": 11,
      "outputs": [
        {
          "output_type": "execute_result",
          "data": {
            "text/plain": [
              "<latexify.frontend.LatexifiedFunction at 0x7f6bef8eea90>"
            ],
            "text/latex": "$$ \\displaystyle \\mathrm{fib}(x) = \\left\\{ \\begin{array}{ll} {0}, & \\mathrm{if} \\ {x = {0}} \\\\ {1}, & \\mathrm{if} \\ {x = {1}} \\\\ \\mathrm{fib}\\left(x - {1}\\right) + \\mathrm{fib}\\left(x - {2}\\right), & \\mathrm{otherwise} \\end{array} \\right. $$"
          },
          "metadata": {},
          "execution_count": 11
        }
      ]
    },
    {
      "cell_type": "code",
      "metadata": {
        "id": "-JhJMAXM7j-X",
        "colab": {
          "base_uri": "https://localhost:8080/",
          "height": 38
        },
        "outputId": "4d2f6a1d-f5d7-4413-c789-840ae0594d04"
      },
      "source": [
        "# Some math symbols are converted automatically.\n",
        "@latexify.function(use_math_symbols=True)\n",
        "def greek(alpha, beta, gamma, Omega):\n",
        "  return alpha * beta + math.gamma(gamma) + Omega\n",
        "\n",
        "greek"
      ],
      "execution_count": null,
      "outputs": [
        {
          "output_type": "execute_result",
          "data": {
            "text/plain": [
              "<latexify.frontend.LatexifiedFunction at 0x7f28da09e990>"
            ],
            "text/latex": "$$ \\displaystyle \\mathrm{greek}({\\alpha}, {\\beta}, {\\gamma}, {\\Omega}) = {\\alpha} {\\beta} + \\Gamma\\left({{\\gamma}}\\right) + {\\Omega} $$"
          },
          "metadata": {},
          "execution_count": 8
        }
      ]
    },
    {
      "cell_type": "code",
      "source": [
        "# Function names, arguments, variables can be replaced.\n",
        "identifiers = {\n",
        "    \"my_function\": \"f\",\n",
        "    \"my_inner_function\": \"g\",\n",
        "    \"my_argument\": \"x\",\n",
        "}\n",
        "\n",
        "@latexify.function(identifiers=identifiers)\n",
        "def my_function(my_argument):\n",
        "    return my_inner_function(my_argument)\n",
        "\n",
        "my_function"
      ],
      "metadata": {
        "colab": {
          "base_uri": "https://localhost:8080/",
          "height": 38
        },
        "id": "ySyNPS0y4tzu",
        "outputId": "fe0e2bb6-44e8-4f2d-ea5c-91aebfebdeea"
      },
      "execution_count": null,
      "outputs": [
        {
          "output_type": "execute_result",
          "data": {
            "text/plain": [
              "<latexify.frontend.LatexifiedFunction at 0x7f28da09b090>"
            ],
            "text/latex": "$$ \\displaystyle \\mathrm{f}(x) = \\mathrm{g}\\left(x\\right) $$"
          },
          "metadata": {},
          "execution_count": 9
        }
      ]
    },
    {
      "cell_type": "code",
      "source": [
        "# Assignments can be reduced into one expression.\n",
        "@latexify.function(reduce_assignments=True)\n",
        "def f(a, b, c):\n",
        "    discriminant = b**2 - 4 * a * c\n",
        "    numerator = -b + math.sqrt(discriminant)\n",
        "    denominator = 2 * a\n",
        "    return numerator / denominator\n",
        "\n",
        "f"
      ],
      "metadata": {
        "colab": {
          "base_uri": "https://localhost:8080/",
          "height": 235
        },
        "id": "TyacQaDM4Ei7",
        "outputId": "dbedcc5a-c3d8-4b34-c9c2-92f2ab75e1d2"
      },
      "execution_count": 4,
      "outputs": [
        {
          "output_type": "error",
          "ename": "NameError",
          "evalue": "ignored",
          "traceback": [
            "\u001b[0;31m---------------------------------------------------------------------------\u001b[0m",
            "\u001b[0;31mNameError\u001b[0m                                 Traceback (most recent call last)",
            "\u001b[0;32m<ipython-input-4-e8d6b28f59c0>\u001b[0m in \u001b[0;36m<module>\u001b[0;34m\u001b[0m\n\u001b[1;32m      1\u001b[0m \u001b[0;31m# Assignments can be reduced into one expression.\u001b[0m\u001b[0;34m\u001b[0m\u001b[0;34m\u001b[0m\u001b[0;34m\u001b[0m\u001b[0m\n\u001b[0;32m----> 2\u001b[0;31m \u001b[0;34m@\u001b[0m\u001b[0mlatexify\u001b[0m\u001b[0;34m.\u001b[0m\u001b[0mfunction\u001b[0m\u001b[0;34m(\u001b[0m\u001b[0mreduce_assignments\u001b[0m\u001b[0;34m=\u001b[0m\u001b[0;32mTrue\u001b[0m\u001b[0;34m)\u001b[0m\u001b[0;34m\u001b[0m\u001b[0;34m\u001b[0m\u001b[0m\n\u001b[0m\u001b[1;32m      3\u001b[0m \u001b[0;32mdef\u001b[0m \u001b[0mf\u001b[0m\u001b[0;34m(\u001b[0m\u001b[0ma\u001b[0m\u001b[0;34m,\u001b[0m \u001b[0mb\u001b[0m\u001b[0;34m,\u001b[0m \u001b[0mc\u001b[0m\u001b[0;34m)\u001b[0m\u001b[0;34m:\u001b[0m\u001b[0;34m\u001b[0m\u001b[0;34m\u001b[0m\u001b[0m\n\u001b[1;32m      4\u001b[0m     \u001b[0mdiscriminant\u001b[0m \u001b[0;34m=\u001b[0m \u001b[0mb\u001b[0m\u001b[0;34m**\u001b[0m\u001b[0;36m2\u001b[0m \u001b[0;34m-\u001b[0m \u001b[0;36m4\u001b[0m \u001b[0;34m*\u001b[0m \u001b[0ma\u001b[0m \u001b[0;34m*\u001b[0m \u001b[0mc\u001b[0m\u001b[0;34m\u001b[0m\u001b[0;34m\u001b[0m\u001b[0m\n\u001b[1;32m      5\u001b[0m     \u001b[0mnumerator\u001b[0m \u001b[0;34m=\u001b[0m \u001b[0;34m-\u001b[0m\u001b[0mb\u001b[0m \u001b[0;34m+\u001b[0m \u001b[0mmath\u001b[0m\u001b[0;34m.\u001b[0m\u001b[0msqrt\u001b[0m\u001b[0;34m(\u001b[0m\u001b[0mdiscriminant\u001b[0m\u001b[0;34m)\u001b[0m\u001b[0;34m\u001b[0m\u001b[0;34m\u001b[0m\u001b[0m\n",
            "\u001b[0;31mNameError\u001b[0m: name 'latexify' is not defined"
          ]
        }
      ]
    },
    {
      "cell_type": "code",
      "source": [],
      "metadata": {
        "id": "POCyLtCyVDlt"
      },
      "execution_count": null,
      "outputs": []
    }
  ]
}